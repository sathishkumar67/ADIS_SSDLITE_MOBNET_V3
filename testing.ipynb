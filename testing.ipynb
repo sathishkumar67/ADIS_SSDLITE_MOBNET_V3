{
 "cells": [
  {
   "cell_type": "code",
   "execution_count": 2,
   "id": "5fb3a015",
   "metadata": {},
   "outputs": [],
   "source": [
    "from ssd_mobnetv3_adis import unzip_file"
   ]
  },
  {
   "cell_type": "code",
   "execution_count": 4,
   "id": "2a5b2ad5",
   "metadata": {},
   "outputs": [
    {
     "data": {
      "text/plain": [
       "<function ssd_mobnetv3_adis.utils.unzip_file(zip_path: 'str', target_dir: 'str') -> 'None'>"
      ]
     },
     "execution_count": 4,
     "metadata": {},
     "output_type": "execute_result"
    }
   ],
   "source": [
    "unzip_file"
   ]
  },
  {
   "cell_type": "code",
   "execution_count": null,
   "id": "b9eecee8",
   "metadata": {},
   "outputs": [],
   "source": []
  }
 ],
 "metadata": {
  "kernelspec": {
   "display_name": "dl",
   "language": "python",
   "name": "python3"
  },
  "language_info": {
   "codemirror_mode": {
    "name": "ipython",
    "version": 3
   },
   "file_extension": ".py",
   "mimetype": "text/x-python",
   "name": "python",
   "nbconvert_exporter": "python",
   "pygments_lexer": "ipython3",
   "version": "3.9.21"
  }
 },
 "nbformat": 4,
 "nbformat_minor": 5
}
